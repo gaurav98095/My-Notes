{
 "cells": [
  {
   "cell_type": "markdown",
   "id": "65ac4df8",
   "metadata": {},
   "source": [
    "## RAG Demo Using PineCone"
   ]
  },
  {
   "cell_type": "code",
   "execution_count": null,
   "id": "95ed310b",
   "metadata": {},
   "outputs": [],
   "source": [
    "# !pip install pinecone sentence-transformers"
   ]
  },
  {
   "cell_type": "code",
   "execution_count": null,
   "id": "4b0d39e5",
   "metadata": {},
   "outputs": [],
   "source": [
    "from pinecone import Pinecone, PodSpec\n",
    "from sentence_transformers import SentenceTransformer"
   ]
  },
  {
   "cell_type": "code",
   "execution_count": null,
   "id": "976f2bfe",
   "metadata": {},
   "outputs": [],
   "source": [
    "from sentence_transformers import SentenceTransformer\n",
    "sentences = [\"This is an example sentence\", \"Each sentence is converted\"]\n",
    "model_name = 'sentence-transformers/all-MiniLM-L6-v2'\n",
    "model = SentenceTransformer(model_name)"
   ]
  },
  {
   "cell_type": "code",
   "execution_count": null,
   "id": "c3a587e4",
   "metadata": {},
   "outputs": [],
   "source": [
    "pinecone_key = \"pcsk_4FoKKm_8d7vnyKUFbaC3wCLvvaS7AT5C3cgqKWTpQsXR6vfxZFdwvdmz69BoiDGVf5RN9U\"\n",
    "pc = Pinecone(api_key=pinecone_key)"
   ]
  },
  {
   "cell_type": "code",
   "execution_count": null,
   "id": "13e093b2",
   "metadata": {},
   "outputs": [],
   "source": [
    "pc.list_indexes()"
   ]
  },
  {
   "cell_type": "code",
   "execution_count": null,
   "id": "7b8ab683",
   "metadata": {},
   "outputs": [],
   "source": [
    "# Create Index\n",
    "\n",
    "index_name = \"vector-demo\"\n",
    "if not pc.has_index(index_name):\n",
    "    pc.create_index_for_model(\n",
    "        name=index_name,\n",
    "        cloud=\"aws\",\n",
    "        region=\"us-east-1\",\n",
    "        embed={\n",
    "            \"model\" : \"llama-text-embed-v2\",\n",
    "            \"field_map\":{\"text\": \"chunk_text\"}\n",
    "        }\n",
    "    )"
   ]
  },
  {
   "cell_type": "code",
   "execution_count": null,
   "id": "8a22dab7",
   "metadata": {},
   "outputs": [],
   "source": [
    "# Dummy Data\n",
    "data = [\n",
    "    {\"id\": \"vector1\",  \"text\": \"I love using vector databases\"},\n",
    "    {\"id\": \"vector2\",  \"text\": \"Vector databases are great for storing and retrieving vectors\"},\n",
    "    {\"id\": \"vector3\",  \"text\": \"Using vector databases makes my life easier\"},\n",
    "    {\"id\": \"vector4\",  \"text\": \"Vector databases are efficient for storing vectors\"},\n",
    "    {\"id\": \"vector5\",  \"text\": \"I enjoy working with vector databases\"},\n",
    "    {\"id\": \"vector6\",  \"text\": \"Vector databases are useful for many applications\"},\n",
    "    {\"id\": \"vector7\",  \"text\": \"I find vector databases very helpful\"},\n",
    "    {\"id\": \"vector8\",  \"text\": \"Vector databases can handle large amounts of data\"},\n",
    "    {\"id\": \"vector9\",  \"text\": \"I think vector databases are the future of data storage\"},\n",
    "    {\"id\": \"vector10\", \"text\": \"Using vector databases has improved my workflow\"}\n",
    "]"
   ]
  },
  {
   "cell_type": "code",
   "execution_count": null,
   "id": "4aec0798",
   "metadata": {},
   "outputs": [],
   "source": [
    "vector_data = []\n",
    "\n",
    "for sentence in data:\n",
    "    \n",
    "    embedding = model.encode(sentence[\"text\"])\n",
    "    vector_info = {\"id\":sentence[\"id\"], \"values\": embedding.tolist()}\n",
    "    \n",
    "    vector_data.append(vector_info)"
   ]
  },
  {
   "cell_type": "code",
   "execution_count": null,
   "id": "679d6b38",
   "metadata": {},
   "outputs": [],
   "source": [
    "index = pc.Index(index_name)"
   ]
  },
  {
   "cell_type": "code",
   "execution_count": null,
   "id": "29d9ef94",
   "metadata": {},
   "outputs": [],
   "source": [
    "index.upsert(vectors=vector_data)"
   ]
  },
  {
   "cell_type": "code",
   "execution_count": null,
   "id": "15f604e1",
   "metadata": {},
   "outputs": [],
   "source": [
    "index.describe_index_stats()"
   ]
  },
  {
   "cell_type": "code",
   "execution_count": null,
   "id": "582542b5",
   "metadata": {},
   "outputs": [],
   "source": [
    "search_text = \"Vector database are really helpful\"\n",
    "\n",
    "search_embedding = model.encode(search_text).tolist()"
   ]
  },
  {
   "cell_type": "code",
   "execution_count": null,
   "id": "e68a92e0",
   "metadata": {},
   "outputs": [],
   "source": [
    "index.query(vector=search_embedding, top_k=3)"
   ]
  }
 ],
 "metadata": {
  "kernelspec": {
   "display_name": "Python 3",
   "language": "python",
   "name": "python3"
  },
  "language_info": {
   "codemirror_mode": {
    "name": "ipython",
    "version": 3
   },
   "file_extension": ".py",
   "mimetype": "text/x-python",
   "name": "python",
   "nbconvert_exporter": "python",
   "pygments_lexer": "ipython3",
   "version": "3.11.11"
  }
 },
 "nbformat": 4,
 "nbformat_minor": 5
}
