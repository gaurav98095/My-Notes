{
 "cells": [
  {
   "cell_type": "markdown",
   "id": "a4481c0a",
   "metadata": {},
   "source": [
    "## DC-GAN"
   ]
  },
  {
   "cell_type": "code",
   "execution_count": 1,
   "id": "dd4526b4",
   "metadata": {},
   "outputs": [],
   "source": [
    "import torch\n",
    "import torch.nn as nn\n",
    "import torch.optim as optim\n",
    "from torchvision import datasets, transforms\n",
    "from torchvision.utils import save_image, make_grid\n",
    "import os\n",
    "\n",
    "# Hyperparameters\n",
    "batch_size = 128\n",
    "z_dim = 100        # Size of the noise vector\n",
    "image_size = 28\n",
    "channels = 1\n",
    "epochs = 50\n",
    "lr = 0.0002\n",
    "beta1 = 0.5        # Adam optimizer beta1\n",
    "\n",
    "device = torch.device(\"cuda\" if torch.cuda.is_available() else \"cpu\")"
   ]
  },
  {
   "cell_type": "code",
   "execution_count": 4,
   "id": "ad32addb",
   "metadata": {},
   "outputs": [
    {
     "name": "stderr",
     "output_type": "stream",
     "text": [
      "100%|██████████| 9.91M/9.91M [00:02<00:00, 4.04MB/s]\n",
      "100%|██████████| 28.9k/28.9k [00:00<00:00, 101kB/s]\n",
      "100%|██████████| 1.65M/1.65M [00:01<00:00, 952kB/s] \n",
      "100%|██████████| 4.54k/4.54k [00:00<00:00, 3.03MB/s]\n"
     ]
    }
   ],
   "source": [
    "# Create output folder\n",
    "os.makedirs(\"generated_images\", exist_ok=True)\n",
    "\n",
    "transform = transforms.Compose([\n",
    "    transforms.Resize(image_size),\n",
    "    transforms.ToTensor(),\n",
    "    transforms.Normalize([0.5], [0.5])  # Normalize between [-1, 1]\n",
    "])\n",
    "\n",
    "\n",
    "train_loader = torch.utils.data.DataLoader(\n",
    "    datasets.MNIST('.', train=True, download=True, transform=transform),\n",
    "    batch_size=batch_size,\n",
    "    shuffle=True\n",
    ")"
   ]
  },
  {
   "cell_type": "code",
   "execution_count": 6,
   "id": "63470f10",
   "metadata": {},
   "outputs": [],
   "source": [
    "class Generator(nn.Module):\n",
    "    def __init__(self, z_dim):\n",
    "        super(Generator, self).__init__()\n",
    "        self.net = nn.Sequential(\n",
    "            # Input: (N, z_dim, 1, 1)\n",
    "            nn.ConvTranspose2d(z_dim, 256, 7, 1, 0, bias=False),\n",
    "            nn.BatchNorm2d(256),\n",
    "            nn.ReLU(True),\n",
    "\n",
    "            nn.ConvTranspose2d(256, 128, 4, 2, 1, bias=False),\n",
    "            nn.BatchNorm2d(128),\n",
    "            nn.ReLU(True),\n",
    "\n",
    "            nn.ConvTranspose2d(128, 1, 4, 2, 1, bias=False),\n",
    "            nn.Tanh()  # Output range [-1, 1]\n",
    "        )\n",
    "\n",
    "    def forward(self, z):\n",
    "        return self.net(z)\n"
   ]
  },
  {
   "cell_type": "code",
   "execution_count": 7,
   "id": "6b3bfc6f",
   "metadata": {},
   "outputs": [],
   "source": [
    "class Discriminator(nn.Module):\n",
    "    def __init__(self):\n",
    "        super(Discriminator, self).__init__()\n",
    "        self.net = nn.Sequential(\n",
    "            # Input: (N, 1, 28, 28)\n",
    "            nn.Conv2d(1, 64, 4, 2, 1, bias=False),\n",
    "            nn.LeakyReLU(0.2, inplace=True),\n",
    "\n",
    "            nn.Conv2d(64, 128, 4, 2, 1, bias=False),\n",
    "            nn.BatchNorm2d(128),\n",
    "            nn.LeakyReLU(0.2, inplace=True),\n",
    "\n",
    "            nn.Flatten(),\n",
    "            nn.Linear(128 * 7 * 7, 1),\n",
    "            nn.Sigmoid()\n",
    "        )\n",
    "\n",
    "    def forward(self, img):\n",
    "        return self.net(img)\n"
   ]
  },
  {
   "cell_type": "code",
   "execution_count": 8,
   "id": "6329786d",
   "metadata": {},
   "outputs": [],
   "source": [
    "generator = Generator(z_dim).to(device)\n",
    "discriminator = Discriminator().to(device)\n",
    "\n",
    "# Binary Cross Entropy loss\n",
    "criterion = nn.BCELoss()\n",
    "\n",
    "# Optimizers\n",
    "optimizer_G = optim.Adam(generator.parameters(), lr=lr, betas=(beta1, 0.999))\n",
    "optimizer_D = optim.Adam(discriminator.parameters(), lr=lr, betas=(beta1, 0.999))\n"
   ]
  },
  {
   "cell_type": "code",
   "execution_count": 9,
   "id": "a87ed40c",
   "metadata": {},
   "outputs": [],
   "source": [
    "def generate_and_save_images(epoch):\n",
    "    generator.eval()\n",
    "    with torch.no_grad():\n",
    "        z = torch.randn(64, z_dim, 1, 1).to(device)\n",
    "        fake_images = generator(z)\n",
    "        fake_images = fake_images * 0.5 + 0.5  # Denormalize to [0,1]\n",
    "        save_image(fake_images, f\"generated_images/sample_epoch_{epoch}.png\", nrow=8)\n",
    "    generator.train()"
   ]
  },
  {
   "cell_type": "code",
   "execution_count": null,
   "id": "33623e0a",
   "metadata": {},
   "outputs": [
    {
     "name": "stdout",
     "output_type": "stream",
     "text": [
      "[Epoch 1/50] [Batch 0/469] D Loss: 1.3259 | G Loss: 0.4518\n",
      "[Epoch 1/50] [Batch 200/469] D Loss: 0.0081 | G Loss: 5.5505\n",
      "[Epoch 1/50] [Batch 400/469] D Loss: 1.3008 | G Loss: 0.9950\n",
      "[Epoch 2/50] [Batch 0/469] D Loss: 1.3117 | G Loss: 0.7831\n"
     ]
    }
   ],
   "source": [
    "k = 3  # Generator updates per iteration\n",
    "p = 1  # Discriminator updates per iteration\n",
    "\n",
    "\n",
    "for epoch in range(1, epochs + 1):\n",
    "    for i, (real_imgs, _) in enumerate(train_loader):\n",
    "        batch_size_curr = real_imgs.size(0)\n",
    "        real_imgs = real_imgs.to(device)\n",
    "\n",
    "        real = torch.ones(batch_size_curr, 1, device=device)\n",
    "        fake = torch.zeros(batch_size_curr, 1, device=device)\n",
    "\n",
    "        ### ---- Train Discriminator p times ---- ###\n",
    "        for _ in range(p):\n",
    "            z = torch.randn(batch_size_curr, z_dim, 1, 1, device=device)\n",
    "            fake_imgs = generator(z)\n",
    "\n",
    "            # Real\n",
    "            real_validity = discriminator(real_imgs)\n",
    "            d_real_loss = criterion(real_validity, real)\n",
    "\n",
    "            # Fake\n",
    "            fake_validity = discriminator(fake_imgs.detach())\n",
    "            d_fake_loss = criterion(fake_validity, fake)\n",
    "\n",
    "            d_loss = d_real_loss + d_fake_loss\n",
    "\n",
    "            optimizer_D.zero_grad()\n",
    "            d_loss.backward()\n",
    "            optimizer_D.step()\n",
    "\n",
    "        ### ---- Train Generator k times ---- ###\n",
    "        for _ in range(k):\n",
    "            z = torch.randn(batch_size_curr, z_dim, 1, 1, device=device)\n",
    "            fake_imgs = generator(z)\n",
    "\n",
    "            validity = discriminator(fake_imgs)\n",
    "            g_loss = criterion(validity, real)  # Generator wants to fool the discriminator\n",
    "\n",
    "            optimizer_G.zero_grad()\n",
    "            g_loss.backward()\n",
    "            optimizer_G.step()\n",
    "\n",
    "        # Logging\n",
    "        if i % 200 == 0:\n",
    "            print(f\"[Epoch {epoch}/{epochs}] [Batch {i}/{len(train_loader)}] \"\n",
    "                  f\"D Loss: {d_loss.item():.4f} | G Loss: {g_loss.item():.4f}\")\n",
    "\n",
    "    # Save sample images at end of each epoch\n",
    "    generator.eval()\n",
    "    with torch.no_grad():\n",
    "        z = torch.randn(64, z_dim, 1, 1, device=device)\n",
    "        samples = generator(z)\n",
    "        samples = samples * 0.5 + 0.5  # Denormalize\n",
    "        save_image(samples, f\"generated_images/epoch_{epoch}.png\", nrow=8)\n",
    "    generator.train()\n"
   ]
  },
  {
   "cell_type": "code",
   "execution_count": null,
   "id": "fa89193e",
   "metadata": {},
   "outputs": [],
   "source": []
  }
 ],
 "metadata": {
  "kernelspec": {
   "display_name": "Python 3",
   "language": "python",
   "name": "python3"
  },
  "language_info": {
   "codemirror_mode": {
    "name": "ipython",
    "version": 3
   },
   "file_extension": ".py",
   "mimetype": "text/x-python",
   "name": "python",
   "nbconvert_exporter": "python",
   "pygments_lexer": "ipython3",
   "version": "3.11.11"
  }
 },
 "nbformat": 4,
 "nbformat_minor": 5
}
